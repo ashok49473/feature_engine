{
 "cells": [
  {
   "cell_type": "markdown",
   "metadata": {},
   "source": [
    "# Winsorizer\n",
    "Winzorizer finds maximum and minimum values following a Gaussian or skewed distribution as indicated. It can also cap the right, left or both ends of the distribution.\n",
    "\n",
    "The Winsorizer() caps maximum and / or minimum values of a variable.\n",
    "\n",
    "The Winsorizer() works only with numerical variables. A list of variables can\n",
    "be indicated. Alternatively, the Winsorizer() will select all numerical\n",
    "variables in the train set.\n",
    "\n",
    "The Winsorizer() first calculates the capping values at the end of the\n",
    "distribution. The values are determined using:\n",
    "\n",
    "- a Gaussian approximation,\n",
    "- the inter-quantile range proximity rule (IQR)\n",
    "- percentiles.\n",
    "\n",
    "\n",
    "### Example"
   ]
  },
  {
   "cell_type": "code",
   "execution_count": 1,
   "metadata": {},
   "outputs": [],
   "source": [
    "import pandas as pd\n",
    "import numpy as np\n",
    "import matplotlib.pyplot as plt\n",
    "\n",
    "from sklearn.model_selection import train_test_split\n",
    "\n",
    "from feature_engine.outliers import Winsorizer"
   ]
  },
  {
   "cell_type": "code",
   "execution_count": 2,
   "metadata": {},
   "outputs": [],
   "source": [
    "# Load titanic dataset from OpenML\n",
    "\n",
    "def load_titanic():\n",
    "    data = pd.read_csv('https://www.openml.org/data/get_csv/16826755/phpMYEkMl')\n",
    "    data = data.replace('?', np.nan)\n",
    "    data['cabin'] = data['cabin'].astype(str).str[0]\n",
    "    data['pclass'] = data['pclass'].astype('O')\n",
    "    data['embarked'].fillna('C', inplace=True)\n",
    "    data['fare'] = data['fare'].astype('float')\n",
    "    data['fare'].fillna(data['fare'].median(), inplace=True)\n",
    "    data['age'] = data['age'].astype('float')\n",
    "    data['age'].fillna(data['age'].median(), inplace=True)\n",
    "    return data\n",
    "# To plot histogram\n",
    "def plot_hist(data, col):\n",
    "    plt.figure(figsize=(8,5))\n",
    "    plt.hist(data[col], bins=30)\n",
    "    plt.title(\"Distribution of \"+col)\n",
    "    return plt.show()"
   ]
  },
  {
   "cell_type": "code",
   "execution_count": 3,
   "metadata": {},
   "outputs": [
    {
     "data": {
      "text/html": [
       "<div>\n",
       "<style scoped>\n",
       "    .dataframe tbody tr th:only-of-type {\n",
       "        vertical-align: middle;\n",
       "    }\n",
       "\n",
       "    .dataframe tbody tr th {\n",
       "        vertical-align: top;\n",
       "    }\n",
       "\n",
       "    .dataframe thead th {\n",
       "        text-align: right;\n",
       "    }\n",
       "</style>\n",
       "<table border=\"1\" class=\"dataframe\">\n",
       "  <thead>\n",
       "    <tr style=\"text-align: right;\">\n",
       "      <th></th>\n",
       "      <th>pclass</th>\n",
       "      <th>survived</th>\n",
       "      <th>name</th>\n",
       "      <th>sex</th>\n",
       "      <th>age</th>\n",
       "      <th>sibsp</th>\n",
       "      <th>parch</th>\n",
       "      <th>ticket</th>\n",
       "      <th>fare</th>\n",
       "      <th>cabin</th>\n",
       "      <th>embarked</th>\n",
       "      <th>boat</th>\n",
       "      <th>body</th>\n",
       "      <th>home.dest</th>\n",
       "    </tr>\n",
       "  </thead>\n",
       "  <tbody>\n",
       "    <tr>\n",
       "      <th>220</th>\n",
       "      <td>1</td>\n",
       "      <td>1</td>\n",
       "      <td>Ostby, Miss. Helene Ragnhild</td>\n",
       "      <td>female</td>\n",
       "      <td>22.0</td>\n",
       "      <td>0</td>\n",
       "      <td>1</td>\n",
       "      <td>113509</td>\n",
       "      <td>61.9792</td>\n",
       "      <td>B</td>\n",
       "      <td>C</td>\n",
       "      <td>5</td>\n",
       "      <td>NaN</td>\n",
       "      <td>Providence, RI</td>\n",
       "    </tr>\n",
       "    <tr>\n",
       "      <th>712</th>\n",
       "      <td>3</td>\n",
       "      <td>0</td>\n",
       "      <td>Celotti, Mr. Francesco</td>\n",
       "      <td>male</td>\n",
       "      <td>24.0</td>\n",
       "      <td>0</td>\n",
       "      <td>0</td>\n",
       "      <td>343275</td>\n",
       "      <td>8.0500</td>\n",
       "      <td>n</td>\n",
       "      <td>S</td>\n",
       "      <td>NaN</td>\n",
       "      <td>NaN</td>\n",
       "      <td>London</td>\n",
       "    </tr>\n",
       "    <tr>\n",
       "      <th>53</th>\n",
       "      <td>1</td>\n",
       "      <td>0</td>\n",
       "      <td>Carrau, Mr. Jose Pedro</td>\n",
       "      <td>male</td>\n",
       "      <td>17.0</td>\n",
       "      <td>0</td>\n",
       "      <td>0</td>\n",
       "      <td>113059</td>\n",
       "      <td>47.1000</td>\n",
       "      <td>n</td>\n",
       "      <td>S</td>\n",
       "      <td>NaN</td>\n",
       "      <td>NaN</td>\n",
       "      <td>Montevideo, Uruguay</td>\n",
       "    </tr>\n",
       "    <tr>\n",
       "      <th>822</th>\n",
       "      <td>3</td>\n",
       "      <td>0</td>\n",
       "      <td>Goldsmith, Mr. Nathan</td>\n",
       "      <td>male</td>\n",
       "      <td>41.0</td>\n",
       "      <td>0</td>\n",
       "      <td>0</td>\n",
       "      <td>SOTON/O.Q. 3101263</td>\n",
       "      <td>7.8500</td>\n",
       "      <td>n</td>\n",
       "      <td>S</td>\n",
       "      <td>NaN</td>\n",
       "      <td>NaN</td>\n",
       "      <td>Philadelphia, PA</td>\n",
       "    </tr>\n",
       "    <tr>\n",
       "      <th>896</th>\n",
       "      <td>3</td>\n",
       "      <td>0</td>\n",
       "      <td>Johnson, Mr. Alfred</td>\n",
       "      <td>male</td>\n",
       "      <td>49.0</td>\n",
       "      <td>0</td>\n",
       "      <td>0</td>\n",
       "      <td>LINE</td>\n",
       "      <td>0.0000</td>\n",
       "      <td>n</td>\n",
       "      <td>S</td>\n",
       "      <td>NaN</td>\n",
       "      <td>NaN</td>\n",
       "      <td>NaN</td>\n",
       "    </tr>\n",
       "  </tbody>\n",
       "</table>\n",
       "</div>"
      ],
      "text/plain": [
       "    pclass  survived                          name     sex   age  sibsp  \\\n",
       "220      1         1  Ostby, Miss. Helene Ragnhild  female  22.0      0   \n",
       "712      3         0        Celotti, Mr. Francesco    male  24.0      0   \n",
       "53       1         0        Carrau, Mr. Jose Pedro    male  17.0      0   \n",
       "822      3         0         Goldsmith, Mr. Nathan    male  41.0      0   \n",
       "896      3         0           Johnson, Mr. Alfred    male  49.0      0   \n",
       "\n",
       "     parch              ticket     fare cabin embarked boat body  \\\n",
       "220      1              113509  61.9792     B        C    5  NaN   \n",
       "712      0              343275   8.0500     n        S  NaN  NaN   \n",
       "53       0              113059  47.1000     n        S  NaN  NaN   \n",
       "822      0  SOTON/O.Q. 3101263   7.8500     n        S  NaN  NaN   \n",
       "896      0                LINE   0.0000     n        S  NaN  NaN   \n",
       "\n",
       "               home.dest  \n",
       "220       Providence, RI  \n",
       "712               London  \n",
       "53   Montevideo, Uruguay  \n",
       "822     Philadelphia, PA  \n",
       "896                  NaN  "
      ]
     },
     "execution_count": 3,
     "metadata": {},
     "output_type": "execute_result"
    }
   ],
   "source": [
    "data = load_titanic()\n",
    "data.sample(5)"
   ]
  },
  {
   "cell_type": "code",
   "execution_count": 4,
   "metadata": {},
   "outputs": [
    {
     "name": "stdout",
     "output_type": "stream",
     "text": [
      "train data: (916, 11)\n",
      "test data: (393, 11)\n"
     ]
    }
   ],
   "source": [
    "# let's separate into training and testing set\n",
    "\n",
    "X_train, X_test, y_train, y_test = train_test_split(data.drop(['survived', 'name', 'ticket'],axis=1),\n",
    "                                                    data['survived'],\n",
    "                                                    test_size=0.3, \n",
    "                                                    random_state=0)\n",
    "\n",
    "print(\"train data:\",X_train.shape)\n",
    "print(\"test data:\",X_test.shape)"
   ]
  },
  {
   "cell_type": "code",
   "execution_count": 5,
   "metadata": {},
   "outputs": [
    {
     "name": "stdout",
     "output_type": "stream",
     "text": [
      "Max age: 80.0\n",
      "Max fare: 512.3292\n"
     ]
    }
   ],
   "source": [
    "# let's find out the maximum Age and maximum Fare in the titanic\n",
    "print(\"Max age:\",data.age.max())\n",
    "print(\"Max fare:\",data.fare.max())"
   ]
  },
  {
   "cell_type": "code",
   "execution_count": 6,
   "metadata": {},
   "outputs": [
    {
     "data": {
      "image/png": "[encoded data removed]",
      "text/plain": [
       "<Figure size 576x360 with 1 Axes>"
      ]
     },
     "metadata": {
      "needs_background": "light"
     },
     "output_type": "display_data"
    }
   ],
   "source": [
    "#Before capping\n",
    "plot_hist(data,'age')"
   ]
  },
  {
   "cell_type": "code",
   "execution_count": 7,
   "metadata": {},
   "outputs": [
    {
     "data": {
      "image/png": "[encoded data removed]",
      "text/plain": [
       "<Figure size 576x360 with 1 Axes>"
      ]
     },
     "metadata": {
      "needs_background": "light"
     },
     "output_type": "display_data"
    }
   ],
   "source": [
    "plot_hist(data, 'fare')"
   ]
  },
  {
   "cell_type": "markdown",
   "metadata": {},
   "source": [
    "#### Capping : Gaussian\n",
    "\n",
    "Gaussian limits:\n",
    "+ right tail: mean + 3* std\n",
    "+ left tail: mean - 3* std\n"
   ]
  },
  {
   "cell_type": "code",
   "execution_count": 8,
   "metadata": {},
   "outputs": [
    {
     "data": {
      "text/plain": [
       "Winsorizer(variables=['age', 'fare'])"
      ]
     },
     "execution_count": 8,
     "metadata": {},
     "output_type": "execute_result"
    }
   ],
   "source": [
    "'''Parameters\n",
    "----------\n",
    "capping_method : str, default=gaussian\n",
    "\n",
    "    Desired capping method. Can take 'gaussian', 'iqr' or 'quantiles'.\n",
    "\n",
    "tail : str, default=right\n",
    "\n",
    "    Whether to cap outliers on the right, left or both tails of the distribution.\n",
    "    Can take 'left', 'right' or 'both'.\n",
    "\n",
    "fold: int or float, default=3\n",
    "\n",
    "    How far out to to place the capping values. The number that will multiply\n",
    "    the std or IQR to calculate the capping values. Recommended values, 2\n",
    "    or 3 for the gaussian approximation, or 1.5 or 3 for the IQR proximity\n",
    "    rule.\n",
    "\n",
    "variables: list, default=None\n",
    "  \n",
    "missing_values: string, default='raise'\n",
    "\n",
    "    Indicates if missing values should be ignored or raised.\n",
    "'''\n",
    "capper = Winsorizer(\n",
    "    capping_method='gaussian', tail='right', fold=3, variables=['age', 'fare'])\n",
    "\n",
    "capper.fit(X_train)"
   ]
  },
  {
   "cell_type": "code",
   "execution_count": 9,
   "metadata": {},
   "outputs": [
    {
     "data": {
      "text/plain": [
       "{'age': 67.49048447470311, 'fare': 174.78162171790427}"
      ]
     },
     "execution_count": 9,
     "metadata": {},
     "output_type": "execute_result"
    }
   ],
   "source": [
    "# here we can find the maximum caps allowed\n",
    "capper.right_tail_caps_"
   ]
  },
  {
   "cell_type": "code",
   "execution_count": 10,
   "metadata": {},
   "outputs": [
    {
     "data": {
      "text/plain": [
       "{}"
      ]
     },
     "execution_count": 10,
     "metadata": {},
     "output_type": "execute_result"
    }
   ],
   "source": [
    "# this dictionary is empty, because we selected only right tail\n",
    "capper.left_tail_caps_"
   ]
  },
  {
   "cell_type": "code",
   "execution_count": 11,
   "metadata": {},
   "outputs": [
    {
     "data": {
      "image/png": "[encoded data removed]",
      "text/plain": [
       "<Figure size 576x360 with 1 Axes>"
      ]
     },
     "metadata": {
      "needs_background": "light"
     },
     "output_type": "display_data"
    }
   ],
   "source": [
    "#After capping\n",
    "plot_hist(capper.transform(X_train),'age')"
   ]
  },
  {
   "cell_type": "code",
   "execution_count": 12,
   "metadata": {},
   "outputs": [
    {
     "data": {
      "text/plain": [
       "(67.49048447470311, 174.78162171790427)"
      ]
     },
     "execution_count": 12,
     "metadata": {},
     "output_type": "execute_result"
    }
   ],
   "source": [
    "train_t = capper.transform(X_train)\n",
    "test_t = capper.transform(X_test)\n",
    "\n",
    "# let's check the new maximum Age and maximum Fare in the titanic\n",
    "train_t.age.max(), train_t.fare.max()"
   ]
  },
  {
   "cell_type": "markdown",
   "metadata": {},
   "source": [
    "### Gaussian capping, both tails"
   ]
  },
  {
   "cell_type": "code",
   "execution_count": 13,
   "metadata": {},
   "outputs": [
    {
     "data": {
      "text/plain": [
       "Winsorizer(fold=2, tail='both', variables=['fare'])"
      ]
     },
     "execution_count": 13,
     "metadata": {},
     "output_type": "execute_result"
    }
   ],
   "source": [
    "winsor = Winsorizer(capping_method='gaussian',tail='both', fold=2, variables='fare')\n",
    "winsor.fit(X_train)"
   ]
  },
  {
   "cell_type": "code",
   "execution_count": 14,
   "metadata": {},
   "outputs": [
    {
     "name": "stdout",
     "output_type": "stream",
     "text": [
      "left : {'fare': -62.3009972660847}\n",
      "right : {'fare': 127.3650979211065}\n"
     ]
    }
   ],
   "source": [
    "print(\"left :\",winsor.left_tail_caps_)\n",
    "\n",
    "print(\"right :\",winsor.right_tail_caps_)"
   ]
  },
  {
   "cell_type": "code",
   "execution_count": 15,
   "metadata": {},
   "outputs": [
    {
     "data": {
      "image/png": "[encoded data removed]",
      "text/plain": [
       "<Figure size 576x360 with 1 Axes>"
      ]
     },
     "metadata": {
      "needs_background": "light"
     },
     "output_type": "display_data"
    }
   ],
   "source": [
    "#After capping\n",
    "plot_hist(winsor.transform(X_train),'fare')"
   ]
  },
  {
   "cell_type": "code",
   "execution_count": 16,
   "metadata": {},
   "outputs": [
    {
     "data": {
      "text/plain": [
       "(127.3650979211065, 0.0)"
      ]
     },
     "execution_count": 16,
     "metadata": {},
     "output_type": "execute_result"
    }
   ],
   "source": [
    "train_t = winsor.transform(X_train) \n",
    "test_t = winsor.transform(X_test) \n",
    "\n",
    "train_t.fare.max(), train_t.fare.min()"
   ]
  },
  {
   "cell_type": "markdown",
   "metadata": {},
   "source": [
    "### Inter Quartile Range, left tail\n",
    "**IQR limits:**\n",
    "\n",
    "- right tail: 75th quantile + 3* IQR\n",
    "- left tail:  25th quantile - 3* IQR\n",
    "\n",
    "where IQR is the inter-quartile range: 75th quantile - 25th quantile.\n"
   ]
  },
  {
   "cell_type": "code",
   "execution_count": 17,
   "metadata": {},
   "outputs": [
    {
     "data": {
      "text/plain": [
       "Winsorizer(capping_method='iqr', tail='both', variables=['age', 'fare'])"
      ]
     },
     "execution_count": 17,
     "metadata": {},
     "output_type": "execute_result"
    }
   ],
   "source": [
    "winsor  = Winsorizer(capping_method='iqr',tail='both',variables=['age','fare'])\n",
    "\n",
    "winsor.fit(X_train)"
   ]
  },
  {
   "cell_type": "code",
   "execution_count": 18,
   "metadata": {},
   "outputs": [
    {
     "data": {
      "text/plain": [
       "{'age': -13.0, 'fare': -62.24179999999999}"
      ]
     },
     "execution_count": 18,
     "metadata": {},
     "output_type": "execute_result"
    }
   ],
   "source": [
    "winsor.left_tail_caps_"
   ]
  },
  {
   "cell_type": "code",
   "execution_count": 19,
   "metadata": {},
   "outputs": [
    {
     "data": {
      "text/plain": [
       "{'age': 71.0, 'fare': 101.4126}"
      ]
     },
     "execution_count": 19,
     "metadata": {},
     "output_type": "execute_result"
    }
   ],
   "source": [
    "winsor.right_tail_caps_"
   ]
  },
  {
   "cell_type": "code",
   "execution_count": 20,
   "metadata": {},
   "outputs": [
    {
     "name": "stdout",
     "output_type": "stream",
     "text": [
      "Max fare: 101.4126\n",
      "Min fare 0.0\n"
     ]
    }
   ],
   "source": [
    "train_t = winsor.transform(X_train) \n",
    "test_t = winsor.transform(X_test) \n",
    "print(\"Max fare:\",train_t.fare.max())\n",
    "print(\"Min fare\",train_t.fare.min())"
   ]
  },
  {
   "cell_type": "markdown",
   "metadata": {},
   "source": [
    "**percentiles or quantiles:**\n",
    "\n",
    "- right tail: 95th percentile\n",
    "- left tail:  5th percentile"
   ]
  },
  {
   "cell_type": "code",
   "execution_count": 21,
   "metadata": {},
   "outputs": [
    {
     "data": {
      "text/plain": [
       "Winsorizer(capping_method='quantiles', fold=0.02, tail='both',\n",
       "           variables=['age', 'fare'])"
      ]
     },
     "execution_count": 21,
     "metadata": {},
     "output_type": "execute_result"
    }
   ],
   "source": [
    "winsor = Winsorizer(capping_method='quantiles', tail='both', fold=0.02, variables=['age','fare'])\n",
    "\n",
    "winsor.fit(X_train)"
   ]
  },
  {
   "cell_type": "code",
   "execution_count": 22,
   "metadata": {},
   "outputs": [
    {
     "data": {
      "text/plain": [
       "{'age': 2.0, 'fare': 6.44125}"
      ]
     },
     "execution_count": 22,
     "metadata": {},
     "output_type": "execute_result"
    }
   ],
   "source": [
    "winsor.left_tail_caps_"
   ]
  },
  {
   "cell_type": "code",
   "execution_count": 23,
   "metadata": {},
   "outputs": [
    {
     "data": {
      "text/plain": [
       "{'age': 61.69999999999993, 'fare': 211.5}"
      ]
     },
     "execution_count": 23,
     "metadata": {},
     "output_type": "execute_result"
    }
   ],
   "source": [
    "winsor.right_tail_caps_"
   ]
  },
  {
   "cell_type": "code",
   "execution_count": 24,
   "metadata": {},
   "outputs": [
    {
     "name": "stdout",
     "output_type": "stream",
     "text": [
      "Max fare: 211.5\n",
      "Min fare 6.44125\n"
     ]
    }
   ],
   "source": [
    "train_t = winsor.transform(X_train) \n",
    "test_t = winsor.transform(X_test) \n",
    "\n",
    "print(\"Max fare:\",train_t.fare.max())\n",
    "print(\"Min fare\",train_t.fare.min())"
   ]
  },
  {
   "cell_type": "code",
   "execution_count": 25,
   "metadata": {},
   "outputs": [
    {
     "data": {
      "image/png": "[encoded data removed]",
      "text/plain": [
       "<Figure size 576x360 with 1 Axes>"
      ]
     },
     "metadata": {
      "needs_background": "light"
     },
     "output_type": "display_data"
    }
   ],
   "source": [
    "plot_hist(train_t,'age')"
   ]
  },
  {
   "cell_type": "code",
   "execution_count": null,
   "metadata": {},
   "outputs": [],
   "source": []
  }
 ],
 "metadata": {
  "kernelspec": {
   "display_name": "Python 3",
   "language": "python",
   "name": "python3"
  },
  "language_info": {
   "codemirror_mode": {
    "name": "ipython",
    "version": 3
   },
   "file_extension": ".py",
   "mimetype": "text/x-python",
   "name": "python",
   "nbconvert_exporter": "python",
   "pygments_lexer": "ipython3",
   "version": "3.7.6"
  }
 },
 "nbformat": 4,
 "nbformat_minor": 4
}
